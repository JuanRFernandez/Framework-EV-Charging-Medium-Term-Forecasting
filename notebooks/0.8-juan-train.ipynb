{
 "cells": [
  {
   "cell_type": "code",
   "execution_count": 16,
   "metadata": {},
   "outputs": [],
   "source": [
    "#Importing the necessary libraries\n",
    "import math\n",
    "import numpy as np\n",
    "import pandas as pd\n",
    "import datetime as dt\n",
    "import os\n",
    "import itertools\n",
    "import matplotlib.pyplot as plt\n",
    "import seaborn as sns\n",
    "color = sns.color_palette()\n",
    "import matplotlib as mpl\n",
    "from matplotlib import colors as mcolors\n",
    "colors = dict(mcolors.BASE_COLORS, **mcolors.CSS4_COLORS)\n",
    "import statsmodels.api as sm\n",
    "import warnings\n",
    "import matplotlib.dates as mdates\n",
    "from pandas.plotting import lag_plot, autocorrelation_plot\n",
    "from statsmodels.graphics.tsaplots import plot_acf, plot_pacf \n",
    "from sklearn.feature_selection import VarianceThreshold\n",
    "import geopandas as gpd\n",
    "from shapely import wkt\n",
    "\n",
    "# Import necessary libraries\n",
    "from statsmodels.tsa.seasonal import seasonal_decompose"
   ]
  },
  {
   "cell_type": "code",
   "execution_count": 17,
   "metadata": {},
   "outputs": [],
   "source": [
    "# FE / ML Libraries\n",
    "from sklearn.pipeline import Pipeline\n",
    "from sklearn.compose import ColumnTransformer\n",
    "from sklearn.preprocessing import StandardScaler, OneHotEncoder, OrdinalEncoder\n",
    "from sklearn.linear_model import LinearRegression\n",
    "from category_encoders import OneHotEncoder, OrdinalEncoder, TargetEncoder, BinaryEncoder, CatBoostEncoder, HelmertEncoder, SumEncoder\n",
    "from sklearn.model_selection import cross_val_score, KFold\n",
    "from sklearn.model_selection import train_test_split\n",
    "from sklearn.metrics import mean_squared_error, r2_score\n",
    "from sklearn.feature_selection import VarianceThreshold\n",
    "from sklearn.neighbors import LocalOutlierFactor\n",
    "from sklearn.ensemble import IsolationForest\n",
    "from sklearn.impute import SimpleImputer\n",
    "from sklearn.impute import KNNImputer\n",
    "from sklearn.experimental import enable_iterative_imputer\n",
    "from sklearn.impute import IterativeImputer\n",
    "from sklearn.feature_selection import SelectKBest, chi2\n",
    "from sklearn.feature_selection import f_classif, f_regression, mutual_info_classif, mutual_info_regression\n",
    "from numpy import mean\n",
    "from numpy import std\n",
    "from sklearn.model_selection import RepeatedStratifiedKFold, RepeatedKFold\n",
    "from sklearn.feature_selection import RFE"
   ]
  },
  {
   "cell_type": "code",
   "execution_count": 18,
   "metadata": {},
   "outputs": [],
   "source": [
    "from sklearn.linear_model import LogisticRegression\n",
    "from sklearn.metrics import accuracy_score\n",
    "from sklearn.linear_model import LinearRegression\n",
    "from sklearn.metrics import mean_absolute_error\n",
    "from sklearn.ensemble import RandomForestClassifier, RandomForestRegressor\n",
    "from sklearn.svm import SVR\n",
    "from sklearn.linear_model import Lasso, ElasticNet"
   ]
  },
  {
   "cell_type": "code",
   "execution_count": 19,
   "metadata": {},
   "outputs": [],
   "source": [
    "import tensorflow as tf\n",
    "# Import necessary libraries\n",
    "from tensorflow import keras\n",
    "from tensorflow.keras import layers, models, regularizers"
   ]
  },
  {
   "cell_type": "code",
   "execution_count": 20,
   "metadata": {},
   "outputs": [],
   "source": [
    "cwd = os.getcwd()\n",
    "DATA_PATH = os.path.join(cwd, '..', 'data')\n",
    "RAW_DATA_PATH = os.path.join(DATA_PATH, 'raw')\n",
    "PROCESSED_DATA_PATH = os.path.join(DATA_PATH, 'processed')"
   ]
  },
  {
   "cell_type": "code",
   "execution_count": 33,
   "metadata": {},
   "outputs": [],
   "source": [
    "def load_dataframes_from_csv(directory='../data/interim/train'):\n",
    "    # Read the csv files and convert them to dataframes\n",
    "    X_train = pd.read_csv(os.path.join(directory, 'x_train.csv'))\n",
    "    y_train = pd.read_csv(os.path.join(directory, 'y_train.csv'))\n",
    "    X_val = pd.read_csv(os.path.join(directory, 'x_val.csv'))\n",
    "    y_val = pd.read_csv(os.path.join(directory, 'y_val.csv'))\n",
    "    X_test = pd.read_csv(os.path.join(directory, 'x_test.csv'))\n",
    "    y_test = pd.read_csv(os.path.join(directory, 'y_test.csv'))\n",
    "\n",
    "    return X_train, y_train, X_val, y_val, X_test, y_test\n",
    "\n",
    "# Call the function\n",
    "X_train, y_train, X_val, y_val, X_test, y_test = load_dataframes_from_csv()"
   ]
  },
  {
   "cell_type": "code",
   "execution_count": 34,
   "metadata": {},
   "outputs": [],
   "source": [
    "def build_model_batch():\n",
    "    \"\"\"\n",
    "    This function builds a Sequential model using Keras. The model consists of several Dense layers\n",
    "    with 'he_normal' initializer, LeakyReLU activation function, BatchNormalization, and L2 regularization.\n",
    "    The model is compiled with the Adam optimizer and Mean Squared Error (MSE) as the loss function.\n",
    "\n",
    "    Returns:\n",
    "    model : keras.Sequential\n",
    "        The compiled model.\n",
    "    \"\"\"\n",
    "\n",
    "    # Define the model using the Sequential API\n",
    "    model = models.Sequential([\n",
    "        # First layer with 32 units, 'he_normal' initializer, and LeakyReLU activation function\n",
    "        layers.Dense(32, kernel_initializer=\"he_normal\", input_shape=(X_train.shape[1],)),\n",
    "        keras.layers.LeakyReLU(alpha=0.1),\n",
    "\n",
    "        # Batch Normalization layer to normalize the activations of the first layer\n",
    "        layers.BatchNormalization(),\n",
    "\n",
    "        # Second layer with 32 units, L2 regularization, 'he_normal' initializer, and LeakyReLU activation function\n",
    "        layers.Dense(32, kernel_regularizer=regularizers.l2(0.0001), kernel_initializer=\"he_normal\"),\n",
    "        keras.layers.LeakyReLU(alpha=0.1),\n",
    "\n",
    "        # Batch Normalization layer to normalize the activations of the second layer\n",
    "        layers.BatchNormalization(),\n",
    "\n",
    "        # Repeat the same pattern for the next three layers\n",
    "        layers.Dense(32, kernel_regularizer=regularizers.l2(0.0001), kernel_initializer=\"he_normal\"),\n",
    "        keras.layers.LeakyReLU(alpha=0.1),\n",
    "        layers.BatchNormalization(),\n",
    "\n",
    "        layers.Dense(32, kernel_regularizer=regularizers.l2(0.0001), kernel_initializer=\"he_normal\"),\n",
    "        keras.layers.LeakyReLU(alpha=0.1),\n",
    "        layers.BatchNormalization(),\n",
    "\n",
    "        layers.Dense(32, kernel_regularizer=regularizers.l2(0.0001), kernel_initializer=\"he_normal\"),\n",
    "        keras.layers.LeakyReLU(alpha=0.1),\n",
    "        layers.BatchNormalization(),\n",
    "\n",
    "        # Final layer with 1 unit for regression output\n",
    "        layers.Dense(1)\n",
    "    ])\n",
    "\n",
    "    # Compile the model with Adam optimizer and MSE loss function\n",
    "    \n",
    "    model.compile(optimizer='Adam', loss=['mse'], metrics=['mae'])\n",
    "    return model"
   ]
  },
  {
   "cell_type": "code",
   "execution_count": 35,
   "metadata": {},
   "outputs": [
    {
     "name": "stdout",
     "output_type": "stream",
     "text": [
      "Model: \"sequential_1\"\n",
      "_________________________________________________________________\n",
      " Layer (type)                Output Shape              Param #   \n",
      "=================================================================\n",
      " dense_6 (Dense)             (None, 32)                14752     \n",
      "                                                                 \n",
      " leaky_re_lu_5 (LeakyReLU)   (None, 32)                0         \n",
      "                                                                 \n",
      " batch_normalization_5 (Batc  (None, 32)               128       \n",
      " hNormalization)                                                 \n",
      "                                                                 \n",
      " dense_7 (Dense)             (None, 32)                1056      \n",
      "                                                                 \n",
      " leaky_re_lu_6 (LeakyReLU)   (None, 32)                0         \n",
      "                                                                 \n",
      " batch_normalization_6 (Batc  (None, 32)               128       \n",
      " hNormalization)                                                 \n",
      "                                                                 \n",
      " dense_8 (Dense)             (None, 32)                1056      \n",
      "                                                                 \n",
      " leaky_re_lu_7 (LeakyReLU)   (None, 32)                0         \n",
      "                                                                 \n",
      " batch_normalization_7 (Batc  (None, 32)               128       \n",
      " hNormalization)                                                 \n",
      "                                                                 \n",
      " dense_9 (Dense)             (None, 32)                1056      \n",
      "                                                                 \n",
      " leaky_re_lu_8 (LeakyReLU)   (None, 32)                0         \n",
      "                                                                 \n",
      " batch_normalization_8 (Batc  (None, 32)               128       \n",
      " hNormalization)                                                 \n",
      "                                                                 \n",
      " dense_10 (Dense)            (None, 32)                1056      \n",
      "                                                                 \n",
      " leaky_re_lu_9 (LeakyReLU)   (None, 32)                0         \n",
      "                                                                 \n",
      " batch_normalization_9 (Batc  (None, 32)               128       \n",
      " hNormalization)                                                 \n",
      "                                                                 \n",
      " dense_11 (Dense)            (None, 1)                 33        \n",
      "                                                                 \n",
      "=================================================================\n",
      "Total params: 19,649\n",
      "Trainable params: 19,329\n",
      "Non-trainable params: 320\n",
      "_________________________________________________________________\n"
     ]
    }
   ],
   "source": [
    "build_model_batch().summary()"
   ]
  },
  {
   "cell_type": "code",
   "execution_count": 36,
   "metadata": {},
   "outputs": [],
   "source": [
    "# This code is used in the context of training a machine learning model with Keras, a popular deep learning library in Python.\n",
    "# 1. It first gets the current working directory (where the script is being run from) using `os.getcwd()`.\n",
    "# 2. It then defines `models_path` as the 'models' folder located one level up from the current working directory.\n",
    "# 3. The `keras.callbacks.ModelCheckpoint` is a function in Keras that saves the model after every epoch. \n",
    "# It is especially useful in cases of long and computational heavy training processes, \n",
    "# as it allows you to retrieve the entire state of the model at the point where it was saved.\n",
    "# 4. In this case, the `ModelCheckpoint` is set up to save the model weights into a file named \"my_best_model.h5\" in the `models_path` directory.\n",
    "# 5. The `save_best_only=True` argument means that the latest best model according to the quantity monitored will not be overwritten. \n",
    "# So, the model weights are saved only when the model's performance on the validation set improves as compared to the previous best model.\n",
    "# 6. If the model performance does not improve on the validation set, the model weights are not saved, which saves storage and keeps the best performing model available.\n",
    "# This approach is a common practice in machine learning to ensure that you always have access to the best model training process, especially when training deep learning models that can take a long time to train.\n",
    "cwd = os.getcwd()\n",
    "models_path = os.path.join(cwd, '..', 'models')\n",
    "myCheckpoint = keras.callbacks.ModelCheckpoint(os.path.join(models_path, \"my_best_model.h5\"), save_best_only=True)"
   ]
  },
  {
   "cell_type": "code",
   "execution_count": 37,
   "metadata": {},
   "outputs": [],
   "source": [
    "#For its implementation:\n",
    "#https://keras.io/api/callbacks/early_stopping/\n",
    "# Here patience refers to the number of epochs with no improvement after which training will be stopped.\n",
    "myEarly_stopping = keras.callbacks.EarlyStopping(patience=20,restore_best_weights=True)"
   ]
  },
  {
   "cell_type": "markdown",
   "metadata": {},
   "source": [
    "# Training the model"
   ]
  },
  {
   "cell_type": "code",
   "execution_count": 38,
   "metadata": {},
   "outputs": [],
   "source": [
    "# This code sets the number of epochs (full passes through the entire training dataset) \n",
    "# that the machine learning model will perform during training to 1000.\n",
    "num_epochs = 1000\n",
    "\n",
    "# It also sets the size of the batches (number of samples processed at once) \n",
    "# that the model will use during training to 10.\n",
    "batch_size = 10"
   ]
  },
  {
   "cell_type": "code",
   "execution_count": 39,
   "metadata": {},
   "outputs": [
    {
     "name": "stdout",
     "output_type": "stream",
     "text": [
      "Epoch 1/1000\n",
      "4477/4477 [==============================] - 15s 3ms/step - loss: 59.8488 - mae: 6.1174 - val_loss: 50.9748 - val_mae: 5.6104\n",
      "Epoch 2/1000\n",
      "4477/4477 [==============================] - 19s 4ms/step - loss: 54.3658 - mae: 5.9531 - val_loss: 50.8793 - val_mae: 5.5960\n",
      "Epoch 3/1000\n",
      "4477/4477 [==============================] - 17s 4ms/step - loss: 54.2648 - mae: 5.9494 - val_loss: 51.7068 - val_mae: 5.6551\n",
      "Epoch 4/1000\n",
      "4477/4477 [==============================] - 18s 4ms/step - loss: 54.2085 - mae: 5.9485 - val_loss: 50.8671 - val_mae: 5.6032\n",
      "Epoch 5/1000\n",
      "4477/4477 [==============================] - 19s 4ms/step - loss: 54.1596 - mae: 5.9455 - val_loss: 50.8568 - val_mae: 5.6020\n",
      "Epoch 6/1000\n",
      "4477/4477 [==============================] - 16s 4ms/step - loss: 54.1534 - mae: 5.9471 - val_loss: 50.9567 - val_mae: 5.5951\n",
      "Epoch 7/1000\n",
      "4477/4477 [==============================] - 14s 3ms/step - loss: 54.1423 - mae: 5.9454 - val_loss: 51.3051 - val_mae: 5.6223\n",
      "Epoch 8/1000\n",
      "4477/4477 [==============================] - 16s 3ms/step - loss: 54.1403 - mae: 5.9430 - val_loss: 51.2067 - val_mae: 5.6092\n",
      "Epoch 9/1000\n",
      "4477/4477 [==============================] - 16s 4ms/step - loss: 54.1234 - mae: 5.9412 - val_loss: 50.9104 - val_mae: 5.6050\n",
      "Epoch 10/1000\n",
      "4477/4477 [==============================] - 13s 3ms/step - loss: 54.1002 - mae: 5.9422 - val_loss: 50.9089 - val_mae: 5.6012\n",
      "Epoch 11/1000\n",
      "4477/4477 [==============================] - 13s 3ms/step - loss: 54.0701 - mae: 5.9399 - val_loss: 50.9669 - val_mae: 5.5919\n",
      "Epoch 12/1000\n",
      "4477/4477 [==============================] - 15s 3ms/step - loss: 54.1083 - mae: 5.9425 - val_loss: 50.8550 - val_mae: 5.6000\n",
      "Epoch 13/1000\n",
      "4477/4477 [==============================] - 18s 4ms/step - loss: 54.0598 - mae: 5.9423 - val_loss: 50.9363 - val_mae: 5.6090\n",
      "Epoch 14/1000\n",
      "4477/4477 [==============================] - 15s 3ms/step - loss: 54.0507 - mae: 5.9420 - val_loss: 50.8402 - val_mae: 5.5856\n",
      "Epoch 15/1000\n",
      "4477/4477 [==============================] - 15s 3ms/step - loss: 54.0604 - mae: 5.9401 - val_loss: 50.9264 - val_mae: 5.5949\n",
      "Epoch 16/1000\n",
      "4477/4477 [==============================] - 16s 4ms/step - loss: 54.0353 - mae: 5.9345 - val_loss: 50.9359 - val_mae: 5.5987\n",
      "Epoch 17/1000\n",
      "4477/4477 [==============================] - 16s 4ms/step - loss: 54.0133 - mae: 5.9378 - val_loss: 50.9233 - val_mae: 5.5914\n",
      "Epoch 18/1000\n",
      "4477/4477 [==============================] - 14s 3ms/step - loss: 53.9980 - mae: 5.9371 - val_loss: 51.1738 - val_mae: 5.6089\n",
      "Epoch 19/1000\n",
      "4477/4477 [==============================] - 14s 3ms/step - loss: 54.0225 - mae: 5.9372 - val_loss: 50.9160 - val_mae: 5.6043\n",
      "Epoch 20/1000\n",
      "4477/4477 [==============================] - 13s 3ms/step - loss: 54.0168 - mae: 5.9342 - val_loss: 51.0014 - val_mae: 5.6131\n",
      "Epoch 21/1000\n",
      "4477/4477 [==============================] - 12s 3ms/step - loss: 54.0153 - mae: 5.9373 - val_loss: 50.8928 - val_mae: 5.5900\n",
      "Epoch 22/1000\n",
      "4477/4477 [==============================] - 12s 3ms/step - loss: 53.9403 - mae: 5.9329 - val_loss: 51.0416 - val_mae: 5.6094\n",
      "Epoch 23/1000\n",
      "4477/4477 [==============================] - 13s 3ms/step - loss: 53.9749 - mae: 5.9334 - val_loss: 51.1148 - val_mae: 5.6072\n",
      "Epoch 24/1000\n",
      "4477/4477 [==============================] - 12s 3ms/step - loss: 53.9385 - mae: 5.9314 - val_loss: 51.1503 - val_mae: 5.6087\n",
      "Epoch 25/1000\n",
      "4477/4477 [==============================] - 12s 3ms/step - loss: 53.8873 - mae: 5.9295 - val_loss: 51.2171 - val_mae: 5.6193\n",
      "Epoch 26/1000\n",
      "4477/4477 [==============================] - 12s 3ms/step - loss: 53.9058 - mae: 5.9290 - val_loss: 51.2337 - val_mae: 5.6191\n",
      "Epoch 27/1000\n",
      "4477/4477 [==============================] - 12s 3ms/step - loss: 53.8569 - mae: 5.9271 - val_loss: 51.1115 - val_mae: 5.6075\n",
      "Epoch 28/1000\n",
      "4477/4477 [==============================] - 13s 3ms/step - loss: 53.8136 - mae: 5.9241 - val_loss: 51.0189 - val_mae: 5.5990\n",
      "Epoch 29/1000\n",
      "4477/4477 [==============================] - 13s 3ms/step - loss: 53.8290 - mae: 5.9277 - val_loss: 51.0483 - val_mae: 5.6059\n",
      "Epoch 30/1000\n",
      "4477/4477 [==============================] - 11s 3ms/step - loss: 53.8046 - mae: 5.9261 - val_loss: 51.2114 - val_mae: 5.6101\n",
      "Epoch 31/1000\n",
      "4477/4477 [==============================] - 14s 3ms/step - loss: 53.8060 - mae: 5.9298 - val_loss: 50.9968 - val_mae: 5.5977\n",
      "Epoch 32/1000\n",
      "4477/4477 [==============================] - 13s 3ms/step - loss: 53.7597 - mae: 5.9256 - val_loss: 51.1014 - val_mae: 5.6080\n",
      "Epoch 33/1000\n",
      "4477/4477 [==============================] - 13s 3ms/step - loss: 53.8074 - mae: 5.9318 - val_loss: 51.3297 - val_mae: 5.6266\n",
      "Epoch 34/1000\n",
      "4477/4477 [==============================] - 14s 3ms/step - loss: 53.7582 - mae: 5.9281 - val_loss: 51.0718 - val_mae: 5.6089\n"
     ]
    }
   ],
   "source": [
    "# Model Training:\n",
    "# -----------------------------------------------------------------------------\n",
    "# Building the Keras models:\n",
    "model_base = build_model_batch()\n",
    "\n",
    "# Training step: Trains the model in silent mode (verbose = 0)\n",
    "history_base = model_base.fit(X_train, y_train, epochs=num_epochs, batch_size=batch_size, validation_data=(X_val, y_val),\n",
    "                              callbacks=[myCheckpoint, myEarly_stopping])  # , verbose=0)\n",
    "\n",
    "# Calling back the best model:\n",
    "model_best = keras.models.load_model(os.path.join(models_path, \"my_best_model.h5\"))"
   ]
  },
  {
   "cell_type": "code",
   "execution_count": 40,
   "metadata": {},
   "outputs": [
    {
     "data": {
      "text/html": [
       "<div>\n",
       "<style scoped>\n",
       "    .dataframe tbody tr th:only-of-type {\n",
       "        vertical-align: middle;\n",
       "    }\n",
       "\n",
       "    .dataframe tbody tr th {\n",
       "        vertical-align: top;\n",
       "    }\n",
       "\n",
       "    .dataframe thead th {\n",
       "        text-align: right;\n",
       "    }\n",
       "</style>\n",
       "<table border=\"1\" class=\"dataframe\">\n",
       "  <thead>\n",
       "    <tr style=\"text-align: right;\">\n",
       "      <th></th>\n",
       "      <th>loss</th>\n",
       "      <th>mae</th>\n",
       "      <th>val_loss</th>\n",
       "      <th>val_mae</th>\n",
       "    </tr>\n",
       "  </thead>\n",
       "  <tbody>\n",
       "    <tr>\n",
       "      <th>19</th>\n",
       "      <td>54.016823</td>\n",
       "      <td>5.934220</td>\n",
       "      <td>51.001350</td>\n",
       "      <td>5.613068</td>\n",
       "    </tr>\n",
       "    <tr>\n",
       "      <th>21</th>\n",
       "      <td>53.940319</td>\n",
       "      <td>5.932891</td>\n",
       "      <td>51.041561</td>\n",
       "      <td>5.609363</td>\n",
       "    </tr>\n",
       "    <tr>\n",
       "      <th>14</th>\n",
       "      <td>54.060421</td>\n",
       "      <td>5.940080</td>\n",
       "      <td>50.926422</td>\n",
       "      <td>5.594886</td>\n",
       "    </tr>\n",
       "  </tbody>\n",
       "</table>\n",
       "</div>"
      ],
      "text/plain": [
       "         loss       mae   val_loss   val_mae\n",
       "19  54.016823  5.934220  51.001350  5.613068\n",
       "21  53.940319  5.932891  51.041561  5.609363\n",
       "14  54.060421  5.940080  50.926422  5.594886"
      ]
     },
     "execution_count": 40,
     "metadata": {},
     "output_type": "execute_result"
    }
   ],
   "source": [
    "#Let's look into the history recorded:\n",
    "hist = pd.DataFrame(history_base.history)\n",
    "hist.sample(3)"
   ]
  },
  {
   "cell_type": "code",
   "execution_count": 41,
   "metadata": {},
   "outputs": [
    {
     "data": {
      "text/html": [
       "<div>\n",
       "<style scoped>\n",
       "    .dataframe tbody tr th:only-of-type {\n",
       "        vertical-align: middle;\n",
       "    }\n",
       "\n",
       "    .dataframe tbody tr th {\n",
       "        vertical-align: top;\n",
       "    }\n",
       "\n",
       "    .dataframe thead th {\n",
       "        text-align: right;\n",
       "    }\n",
       "</style>\n",
       "<table border=\"1\" class=\"dataframe\">\n",
       "  <thead>\n",
       "    <tr style=\"text-align: right;\">\n",
       "      <th></th>\n",
       "      <th>loss</th>\n",
       "      <th>mae</th>\n",
       "      <th>val_loss</th>\n",
       "      <th>val_mae</th>\n",
       "      <th>epoch</th>\n",
       "    </tr>\n",
       "  </thead>\n",
       "  <tbody>\n",
       "    <tr>\n",
       "      <th>18</th>\n",
       "      <td>54.022526</td>\n",
       "      <td>5.937223</td>\n",
       "      <td>50.915989</td>\n",
       "      <td>5.604289</td>\n",
       "      <td>18</td>\n",
       "    </tr>\n",
       "    <tr>\n",
       "      <th>5</th>\n",
       "      <td>54.153378</td>\n",
       "      <td>5.947106</td>\n",
       "      <td>50.956688</td>\n",
       "      <td>5.595149</td>\n",
       "      <td>5</td>\n",
       "    </tr>\n",
       "    <tr>\n",
       "      <th>16</th>\n",
       "      <td>54.013302</td>\n",
       "      <td>5.937808</td>\n",
       "      <td>50.923279</td>\n",
       "      <td>5.591395</td>\n",
       "      <td>16</td>\n",
       "    </tr>\n",
       "  </tbody>\n",
       "</table>\n",
       "</div>"
      ],
      "text/plain": [
       "         loss       mae   val_loss   val_mae  epoch\n",
       "18  54.022526  5.937223  50.915989  5.604289     18\n",
       "5   54.153378  5.947106  50.956688  5.595149      5\n",
       "16  54.013302  5.937808  50.923279  5.591395     16"
      ]
     },
     "execution_count": 41,
     "metadata": {},
     "output_type": "execute_result"
    }
   ],
   "source": [
    "#Adding epoch column:\n",
    "hist['epoch'] = history_base.epoch\n",
    "# As you can see, we have the losses as well as mae for both training and CV data:\n",
    "hist.sample(3)"
   ]
  },
  {
   "cell_type": "code",
   "execution_count": 42,
   "metadata": {},
   "outputs": [],
   "source": [
    "# Defining our function to see the evolution of error:\n",
    "def plot_learning_curves(history):\n",
    "  #We will omit the first 10 points for a better visualization:\n",
    "  plt.plot(history['epoch'],history['loss'], \"k--\", linewidth=1.5, label=\"Training\")\n",
    "  plt.plot(history['epoch'],history['val_loss'], \"b-.\", linewidth=1.5, label=\"Validation\")\n",
    "  plt.legend()\n",
    "  plt.yscale(\"log\")\n",
    "  plt.xlabel(\"Epochs\"),  plt.ylabel(\"Loss (MSE)\")"
   ]
  },
  {
   "cell_type": "code",
   "execution_count": 43,
   "metadata": {},
   "outputs": [
    {
     "data": {
      "image/png": "[encoded data removed]",
      "text/plain": [
       "<Figure size 640x480 with 1 Axes>"
      ]
     },
     "metadata": {},
     "output_type": "display_data"
    }
   ],
   "source": [
    "# Plotting the results:\n",
    "# Remember that we defined our loss as MSE in the model.\n",
    "plot_learning_curves(hist)"
   ]
  },
  {
   "cell_type": "markdown",
   "metadata": {},
   "source": [
    "\"\"\"\n",
    "1. Underfitting: This could occur if your model is too simple to capture the underlying structure of the data. You need to increase the complexity of your model, such as adding more layers or nodes, or choosing a more complex model.\n",
    "\n",
    "2. Insufficient Training: Your model might not have been trained for enough epochs. This means that the model has not yet learned the underlying patterns in the training data. You may need to increase the number of epochs.\n",
    "\n",
    "3. Noise in the Training Data: If your training data of noise (i.e., irrelevant or wrong data), the model might find it hard to learn the patterns. This could result in a higher training loss. You may need to clean your data or use techniques to reduce noise.\n",
    "\n",
    "4. Regularization: If you have applied too much regularizationlike L1 or L2), it can cause your model to underfit the data, leading to a higher loss on your training set than on your validation set. You may need to reduce the amount of regularization.\n",
    "\n",
    "5. Data Leakage: If your validation set somehow leaks information to the model, the validation loss may be artificially low. Make sure the validation set is completely separate from the training set and is not used in any way to train the model.\n",
    "\n",
    "6. Small Validation Set: If your validation set is too small, it might not be representative of the overall distribution of data. This could result in a lower validation loss simply due to chance. You may need to size of your validation set.\n",
    "\n",
    "7. Wrong Evaluation Metric: Make sure you are using the right metric for evaluating your model. Some metrics can give misleading results if not used properly. For example, accuracy can be a misleading metric if your classes imbalanced. \n",
    "\"\"\"\n"
   ]
  },
  {
   "cell_type": "code",
   "execution_count": 66,
   "metadata": {},
   "outputs": [
    {
     "name": "stdout",
     "output_type": "stream",
     "text": [
      "300/300 [==============================] - 0s 1ms/step\n"
     ]
    },
    {
     "data": {
      "image/png": "[encoded data removed]",
      "text/plain": [
       "<Figure size 1000x1000 with 1 Axes>"
      ]
     },
     "metadata": {},
     "output_type": "display_data"
    }
   ],
   "source": [
    "# Calling trained model for predictions:\n",
    "Y_test_predictions = pd.Series(model_best.predict(X_test).flatten(),index=X_test.index)\n",
    "\n",
    "# Increase figure size\n",
    "fig, a = plt.subplots(figsize=(10, 10))\n",
    "\n",
    "# Set aspect ratio\n",
    "a.set_aspect('equal', 'box')\n",
    "\n",
    "# Visualization of the accuracy:\n",
    "plt.scatter(y_test, Y_test_predictions)\n",
    "plt.xlabel('True Load Values')\n",
    "plt.ylabel('Predicted Load Values')\n",
    "\n",
    "# Calculate limits based on min and max of true and predicted values\n",
    "lims = [\n",
    "    np.min([y_test.min().item(), Y_test_predictions.min().item()]), \n",
    "    np.max([y_test.max().item(), Y_test_predictions.max().item()])\n",
    "]\n",
    "\n",
    "# Set axis limits\n",
    "plt.xlim(lims), plt.ylim(lims)\n",
    "plt.plot(lims, lims)\n",
    "\n",
    "# Show plot\n",
    "plt.show()"
   ]
  }
 ],
 "metadata": {
  "kernelspec": {
   "display_name": "ev_charging_env",
   "language": "python",
   "name": "python3"
  },
  "language_info": {
   "codemirror_mode": {
    "name": "ipython",
    "version": 3
   },
   "file_extension": ".py",
   "mimetype": "text/x-python",
   "name": "python",
   "nbconvert_exporter": "python",
   "pygments_lexer": "ipython3",
   "version": "3.10.12"
  },
  "orig_nbformat": 4
 },
 "nbformat": 4,
 "nbformat_minor": 2
}
